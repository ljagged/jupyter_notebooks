{
 "cells": [
  {
   "cell_type": "code",
   "execution_count": 1,
   "metadata": {},
   "outputs": [],
   "source": [
    "def factorial(n):\n",
    "    if n < 0: raise ValueError(f\"Number must be greater than 0: {n}\")\n",
    "    if n == 0: return 1\n",
    "    return n * factorial(n - 1)"
   ]
  },
  {
   "cell_type": "code",
   "execution_count": 2,
   "metadata": {},
   "outputs": [],
   "source": [
    "assert factorial(5) == 120"
   ]
  },
  {
   "cell_type": "code",
   "execution_count": 3,
   "metadata": {},
   "outputs": [],
   "source": [
    "assert factorial(0) == 1"
   ]
  },
  {
   "cell_type": "code",
   "execution_count": 4,
   "metadata": {},
   "outputs": [],
   "source": [
    "try:\n",
    "    factorial(-1)\n",
    "except ValueError as err:\n",
    "    assert err.args[0] == \"Number must be greater than 0: -1\""
   ]
  },
  {
   "cell_type": "code",
   "execution_count": 5,
   "metadata": {},
   "outputs": [
    {
     "name": "stdout",
     "output_type": "stream",
     "text": [
      "Smashed the stack!\n"
     ]
    }
   ],
   "source": [
    "try:\n",
    "    factorial(5000)\n",
    "    print(\"Don't worry! The stack is fine.\")\n",
    "except RecursionError:\n",
    "    print(\"Smashed the stack!\")"
   ]
  },
  {
   "cell_type": "code",
   "execution_count": 6,
   "metadata": {},
   "outputs": [],
   "source": [
    "def factorial_tco(n):\n",
    "    if n < 0: raise ValueError(f\"Number must be greater than 0: {n}\")\n",
    "    def factorial_helper(acc, n):\n",
    "        if n == 0: return acc\n",
    "        return factorial_helper(acc * n, n - 1)\n",
    "    return factorial_helper(1, n)"
   ]
  },
  {
   "cell_type": "code",
   "execution_count": 7,
   "metadata": {},
   "outputs": [],
   "source": [
    "assert factorial_tco(5) == 120"
   ]
  },
  {
   "cell_type": "code",
   "execution_count": 8,
   "metadata": {},
   "outputs": [],
   "source": [
    "assert factorial_tco(0) == 1"
   ]
  },
  {
   "cell_type": "code",
   "execution_count": 9,
   "metadata": {},
   "outputs": [],
   "source": [
    "try:\n",
    "    factorial_tco(-1)\n",
    "except ValueError as err:\n",
    "    assert err.args[0] == \"Number must be greater than 0: -1\""
   ]
  },
  {
   "cell_type": "markdown",
   "metadata": {},
   "source": [
    "Looks like python doesn't do tail-call optimization"
   ]
  },
  {
   "cell_type": "code",
   "execution_count": 10,
   "metadata": {},
   "outputs": [
    {
     "name": "stdout",
     "output_type": "stream",
     "text": [
      "Smashed the stack!\n"
     ]
    }
   ],
   "source": [
    "try:\n",
    "    factorial_tco(5000)\n",
    "    print(\"Don't worry! The stack is fine.\")\n",
    "except RecursionError:\n",
    "    print(\"Smashed the stack!\")"
   ]
  },
  {
   "cell_type": "code",
   "execution_count": 11,
   "metadata": {},
   "outputs": [],
   "source": [
    "import functools\n",
    "import operator\n",
    "\n",
    "def factorial_fold(n):\n",
    "    if n < 0: raise ValueError(f\"Number must be greater than 0: {n}\")    \n",
    "    return functools.reduce(operator.mul, range(1, n + 1), 1)"
   ]
  },
  {
   "cell_type": "code",
   "execution_count": 12,
   "metadata": {},
   "outputs": [],
   "source": [
    "assert factorial_fold(5) == 120"
   ]
  },
  {
   "cell_type": "code",
   "execution_count": 13,
   "metadata": {},
   "outputs": [],
   "source": [
    "assert factorial_fold(0) == 1"
   ]
  },
  {
   "cell_type": "code",
   "execution_count": 14,
   "metadata": {},
   "outputs": [],
   "source": [
    "try:\n",
    "    factorial_fold(-1)\n",
    "except ValueError as err:\n",
    "    assert err.args[0] == \"Number must be greater than 0: -1\""
   ]
  },
  {
   "cell_type": "code",
   "execution_count": 15,
   "metadata": {},
   "outputs": [
    {
     "name": "stdout",
     "output_type": "stream",
     "text": [
      "Don't worry! The stack is fine.\n"
     ]
    }
   ],
   "source": [
    "try:\n",
    "    factorial_fold(5000)\n",
    "    print(\"Don't worry! The stack is fine.\")\n",
    "except RecursionError:\n",
    "    print(\"Smashed the stack!\")\n"
   ]
  }
 ],
 "metadata": {
  "kernelspec": {
   "display_name": "Python 3",
   "language": "python",
   "name": "python3"
  },
  "language_info": {
   "codemirror_mode": {
    "name": "ipython",
    "version": 3
   },
   "file_extension": ".py",
   "mimetype": "text/x-python",
   "name": "python",
   "nbconvert_exporter": "python",
   "pygments_lexer": "ipython3",
   "version": "3.6.3"
  }
 },
 "nbformat": 4,
 "nbformat_minor": 2
}
